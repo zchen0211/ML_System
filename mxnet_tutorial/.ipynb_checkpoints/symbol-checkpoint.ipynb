{
 "cells": [
  {
   "cell_type": "markdown",
   "metadata": {},
   "source": [
    "# Symbol - Neural network graphs and auto-differentiation\n",
    "\n",
    "In a [previous tutorial](http://mxnet.io/tutorials/basic/ndarray.html), we introduced `NDArray`,\n",
    "the basic data structure for manipulating data in MXNet.\n",
    "And just using NDArray by itself, we can execute a wide range of mathematical operations.\n",
    "In fact, we could define and update a full neural network just by using `NDArray`.\n",
    "`NDArray` allows you to write programs for scientific computation\n",
    "in an imperative fashion, making full use of the native control of any front-end language.\n",
    "So you might wonder, why don't we just use `NDArray` for all computation?\n",
    "\n",
    "MXNet provides the Symbol API, an interface for symbolic programming.\n",
    "With symbolic programming, rather than executing operations step by step,\n",
    "we first define a *computation graph*.\n",
    "This graph contains placeholders for inputs and designated outputs.\n",
    "We can then compile the graph, yielding a function\n",
    "that can be bound to `NDArray`s and run.\n",
    "MXNet's Symbol API is similar to the network configurations\n",
    "used by [Caffe](http://caffe.berkeleyvision.org/)\n",
    "and the symbolic programming in [Theano](http://deeplearning.net/software/theano/).\n",
    "\n",
    "Another advantage conferred by symbolic approach is that\n",
    "we can optimize our functions before using them.\n",
    "For example, when we execute mathematical computations in imperative fashion,\n",
    "we don't know at the time that we run each operation,\n",
    "which values will be needed later on.\n",
    "But with symbolic programming, we declare the required outputs in advance.\n",
    "This means that we can recycle memory allocated in intermediate steps,\n",
    "as by performing operations in place. Symbolic API also uses less memory for the\n",
    "same network. Refer to [How To](http://mxnet.io/how_to/index.html) and\n",
    "[Architecture](http://mxnet.io/architecture/index.html) section to know more.\n",
    "\n",
    "In our design notes, we present [a more thorough discussion on the comparative strengths\n",
    "of imperative and symbolic programing](http://mxnet.io/architecture/program_model.html).\n",
    "But in this document, we'll focus on teaching you how to use MXNet's Symbol API.\n",
    "In MXNet, we can compose Symbols from other Symbols, using operators,\n",
    "such as simple matrix operations (e.g. \"+\"),\n",
    "or whole neural network layers (e.g. convolution layer).\n",
    "Operator can take multiple input variables,\n",
    "can produce multiple output symbols\n",
    "and can maintain internal state symbols.\n",
    "\n",
    "For a visual explanation of these concepts, see\n",
    "[Symbolic Configuration and Execution in Pictures](http://mxnet.io/api/python/symbol_in_pictures.html).\n",
    "\n",
    "To make things concrete, let's take a hands-on look at the Symbol API.\n",
    "There are a few different ways to compose a `Symbol`.\n",
    "\n",
    "## Prerequisites\n",
    "\n",
    "To complete this tutorial, we need:\n",
    "\n",
    "- MXNet. See the instructions for your operating system in [Setup and Installation](http://mxnet.io/get_started/install.html)\n",
    "- [Jupyter](http://jupyter.org/)\n",
    "    ```\n",
    "    pip install jupyter\n",
    "    ```\n",
    "- GPUs - A section of this tutorial uses GPUs. If you don't have GPUs on your machine, simply\n",
    "set the variable gpu_device to mx.cpu().\n",
    "\n",
    "## Basic Symbol Composition\n",
    "\n",
    "### Basic Operators\n",
    "\n",
    "The following example builds a simple expression: `a + b`.\n",
    "First, we create two placeholders with  `mx.sym.Variable`,\n",
    "giving them the names `a` and `b`.\n",
    "We then construct the desired symbol by using the operator `+`.\n",
    "We don't need to name our variables while creating them,\n",
    "MXNet will automatically generate a unique name for each.\n",
    "In the example below, `c` is assigned a unique name automatically."
   ]
  },
  {
   "cell_type": "code",
   "execution_count": 1,
   "metadata": {},
   "outputs": [
    {
     "data": {
      "text/plain": [
       "(<Symbol a>, <Symbol b>, <Symbol _plus0>)"
      ]
     },
     "execution_count": 1,
     "metadata": {},
     "output_type": "execute_result"
    }
   ],
   "source": [
    "import mxnet as mx\n",
    "a = mx.sym.Variable('a')\n",
    "b = mx.sym.Variable('b')\n",
    "c = a + b\n",
    "(a, b, c)"
   ]
  },
  {
   "cell_type": "markdown",
   "metadata": {},
   "source": [
    "Most operators supported by `NDArray` are also supported by `Symbol`, for example:"
   ]
  },
  {
   "cell_type": "code",
   "execution_count": null,
   "metadata": {
    "collapsed": true
   },
   "outputs": [],
   "source": [
    "# elemental wise multiplication\n",
    "d = a * b\n",
    "# matrix multiplication\n",
    "e = mx.sym.dot(a, b)\n",
    "# reshape\n",
    "f = mx.sym.reshape(d+e, shape=(1,4))\n",
    "# broadcast\n",
    "g = mx.sym.broadcast_to(f, shape=(2,4))\n",
    "# plot\n",
    "mx.viz.plot_network(symbol=g)"
   ]
  },
  {
   "cell_type": "markdown",
   "metadata": {},
   "source": [
    "The computations declared in the above examples can be bound to the input data\n",
    "for evaluation by using `bind` method. We discuss this further in the\n",
    "[symbol manipulation](#Symbol Manipulation) section.\n",
    "\n",
    "### Basic Neural Networks\n",
    "\n",
    "Besides the basic operators, `Symbol` also supports a rich set of neural network layers.\n",
    "The following example constructs a two layer fully connected neural network\n",
    "and then visualizes the structure of that network given the input data shape."
   ]
  },
  {
   "cell_type": "code",
   "execution_count": null,
   "metadata": {
    "collapsed": true
   },
   "outputs": [],
   "source": [
    "net = mx.sym.Variable('data')\n",
    "net = mx.sym.FullyConnected(data=net, name='fc1', num_hidden=128)\n",
    "net = mx.sym.Activation(data=net, name='relu1', act_type=\"relu\")\n",
    "net = mx.sym.FullyConnected(data=net, name='fc2', num_hidden=10)\n",
    "net = mx.sym.SoftmaxOutput(data=net, name='out')\n",
    "mx.viz.plot_network(net, shape={'data':(100,200)})"
   ]
  },
  {
   "cell_type": "markdown",
   "metadata": {},
   "source": [
    "Each symbol takes a (unique) string name. NDArray and Symbol both represent\n",
    "a single tensor. *Operators* represent the computation between tensors.\n",
    "Operators take symbol (or NDArray) as inputs and might also additionally accept\n",
    "other hyperparameters such as the number of hidden neurons (*num_hidden*) or the\n",
    "activation type (*act_type*) and produce the output.\n",
    "\n",
    "We can view a symbol simply as a function taking several arguments.\n",
    "And we can retrieve those arguments with the following method call:"
   ]
  },
  {
   "cell_type": "code",
   "execution_count": null,
   "metadata": {
    "collapsed": true
   },
   "outputs": [],
   "source": [
    "net.list_arguments()"
   ]
  },
  {
   "cell_type": "markdown",
   "metadata": {},
   "source": [
    "These arguments are the parameters and inputs needed by each symbol:\n",
    "\n",
    "- *data*: Input data needed by the variable *data*.\n",
    "- *fc1_weight* and *fc1_bias*: The weight and bias for the first fully connected layer *fc1*.\n",
    "- *fc2_weight* and *fc2_bias*: The weight and bias for the second fully connected layer *fc2*.\n",
    "- *out_label*: The label needed by the loss.\n",
    "\n",
    "We can also specify the names explicitly:"
   ]
  },
  {
   "cell_type": "code",
   "execution_count": null,
   "metadata": {
    "collapsed": true
   },
   "outputs": [],
   "source": [
    "net = mx.symbol.Variable('data')\n",
    "w = mx.symbol.Variable('myweight')\n",
    "net = mx.symbol.FullyConnected(data=net, weight=w, name='fc1', num_hidden=128)\n",
    "net.list_arguments()"
   ]
  },
  {
   "cell_type": "markdown",
   "metadata": {},
   "source": [
    "In the above example, `FullyConnected` layer has 3 inputs: data, weight, bias.\n",
    "When any input is not specified, a variable will be automatically generated for it.\n",
    "\n",
    "## More Complicated Composition\n",
    "\n",
    "MXNet provides well-optimized symbols for layers commonly used in deep learning\n",
    "(see [src/operator](https://github.com/dmlc/mxnet/tree/master/src/operator)).\n",
    "We can also define new operators in Python. The following example first\n",
    "performs an element-wise add between two symbols, then feeds them to the fully\n",
    "connected operator:"
   ]
  },
  {
   "cell_type": "code",
   "execution_count": null,
   "metadata": {
    "collapsed": true
   },
   "outputs": [],
   "source": [
    "lhs = mx.symbol.Variable('data1')\n",
    "rhs = mx.symbol.Variable('data2')\n",
    "net = mx.symbol.FullyConnected(data=lhs + rhs, name='fc1', num_hidden=128)\n",
    "net.list_arguments()"
   ]
  },
  {
   "cell_type": "markdown",
   "metadata": {},
   "source": [
    "We can also construct a symbol in a more flexible way than the single forward\n",
    "composition depicted in the preceding example:"
   ]
  },
  {
   "cell_type": "code",
   "execution_count": null,
   "metadata": {
    "collapsed": true
   },
   "outputs": [],
   "source": [
    "data = mx.symbol.Variable('data')\n",
    "net1 = mx.symbol.FullyConnected(data=data, name='fc1', num_hidden=10)\n",
    "net1.list_arguments()\n",
    "net2 = mx.symbol.Variable('data2')\n",
    "net2 = mx.symbol.FullyConnected(data=net2, name='fc2', num_hidden=10)\n",
    "composed = net2(data2=net1, name='composed')\n",
    "composed.list_arguments()"
   ]
  },
  {
   "cell_type": "markdown",
   "metadata": {},
   "source": [
    "In this example, *net2* is used as a function to apply to an existing symbol *net1*,\n",
    "and the resulting *composed* symbol will have all the attributes of *net1* and *net2*.\n",
    "\n",
    "Once you start building some bigger networks, you might want to name some\n",
    "symbols with a common prefix to outline the structure of your network.\n",
    "You can use the\n",
    "[Prefix](https://github.com/dmlc/mxnet/blob/master/python/mxnet/name.py)\n",
    "NameManager as follows:"
   ]
  },
  {
   "cell_type": "code",
   "execution_count": null,
   "metadata": {
    "collapsed": true
   },
   "outputs": [],
   "source": [
    "data = mx.sym.Variable(\"data\")\n",
    "net = data\n",
    "n_layer = 2\n",
    "for i in range(n_layer):\n",
    "    with mx.name.Prefix(\"layer%d_\" % (i + 1)):\n",
    "        net = mx.sym.FullyConnected(data=net, name=\"fc\", num_hidden=100)\n",
    "net.list_arguments()"
   ]
  },
  {
   "cell_type": "markdown",
   "metadata": {},
   "source": [
    "### Modularized Construction for Deep Networks\n",
    "\n",
    "Constructing a *deep* network layer by layer, (like the Google Inception network),\n",
    "can be tedious owing to the large number of layers.\n",
    "So, for such networks, we often modularize the construction.\n",
    "\n",
    "For example, in Google Inception network,\n",
    "we can first define a factory function which chains the convolution,\n",
    "batch normalization and rectified linear unit (ReLU) activation layers together."
   ]
  },
  {
   "cell_type": "code",
   "execution_count": null,
   "metadata": {
    "collapsed": true
   },
   "outputs": [],
   "source": [
    "def ConvFactory(data, num_filter, kernel, stride=(1,1), pad=(0, 0),name=None, suffix=''):\n",
    "    conv = mx.sym.Convolution(data=data, num_filter=num_filter, kernel=kernel,\n",
    "                  stride=stride, pad=pad, name='conv_%s%s' %(name, suffix))\n",
    "    bn = mx.sym.BatchNorm(data=conv, name='bn_%s%s' %(name, suffix))\n",
    "    act = mx.sym.Activation(data=bn, act_type='relu', name='relu_%s%s'\n",
    "                  %(name, suffix))\n",
    "    return act\n",
    "prev = mx.sym.Variable(name=\"Previous Output\")\n",
    "conv_comp = ConvFactory(data=prev, num_filter=64, kernel=(7,7), stride=(2, 2))\n",
    "shape = {\"Previous Output\" : (128, 3, 28, 28)}\n",
    "mx.viz.plot_network(symbol=conv_comp, shape=shape)"
   ]
  },
  {
   "cell_type": "markdown",
   "metadata": {},
   "source": [
    "Then we can define a function that constructs an inception module based on\n",
    "factory function `ConvFactory`."
   ]
  },
  {
   "cell_type": "code",
   "execution_count": null,
   "metadata": {
    "collapsed": true
   },
   "outputs": [],
   "source": [
    "def InceptionFactoryA(data, num_1x1, num_3x3red, num_3x3, num_d3x3red, num_d3x3,\n",
    "                      pool, proj, name):\n",
    "    # 1x1\n",
    "    c1x1 = ConvFactory(data=data, num_filter=num_1x1, kernel=(1, 1), name=('%s_1x1' % name))\n",
    "    # 3x3 reduce + 3x3\n",
    "    c3x3r = ConvFactory(data=data, num_filter=num_3x3red, kernel=(1, 1), name=('%s_3x3' % name), suffix='_reduce')\n",
    "    c3x3 = ConvFactory(data=c3x3r, num_filter=num_3x3, kernel=(3, 3), pad=(1, 1), name=('%s_3x3' % name))\n",
    "    # double 3x3 reduce + double 3x3\n",
    "    cd3x3r = ConvFactory(data=data, num_filter=num_d3x3red, kernel=(1, 1), name=('%s_double_3x3' % name), suffix='_reduce')\n",
    "    cd3x3 = ConvFactory(data=cd3x3r, num_filter=num_d3x3, kernel=(3, 3), pad=(1, 1), name=('%s_double_3x3_0' % name))\n",
    "    cd3x3 = ConvFactory(data=cd3x3, num_filter=num_d3x3, kernel=(3, 3), pad=(1, 1), name=('%s_double_3x3_1' % name))\n",
    "    # pool + proj\n",
    "    pooling = mx.sym.Pooling(data=data, kernel=(3, 3), stride=(1, 1), pad=(1, 1), pool_type=pool, name=('%s_pool_%s_pool' % (pool, name)))\n",
    "    cproj = ConvFactory(data=pooling, num_filter=proj, kernel=(1, 1), name=('%s_proj' %  name))\n",
    "    # concat\n",
    "    concat = mx.sym.Concat(*[c1x1, c3x3, cd3x3, cproj], name='ch_concat_%s_chconcat' % name)\n",
    "    return concat\n",
    "prev = mx.sym.Variable(name=\"Previous Output\")\n",
    "in3a = InceptionFactoryA(prev, 64, 64, 64, 64, 96, \"avg\", 32, name=\"in3a\")\n",
    "mx.viz.plot_network(symbol=in3a, shape=shape)"
   ]
  },
  {
   "cell_type": "markdown",
   "metadata": {},
   "source": [
    "Finally, we can obtain the whole network by chaining multiple inception\n",
    "modules. See a complete example\n",
    "[here](https://github.com/dmlc/mxnet/blob/master/example/image-classification/symbols/inception-bn.py).\n",
    "\n",
    "### Group Multiple Symbols\n",
    "\n",
    "To construct neural networks with multiple loss layers, we can use\n",
    "`mxnet.sym.Group` to group multiple symbols together. The following example\n",
    "groups two outputs:"
   ]
  },
  {
   "cell_type": "code",
   "execution_count": null,
   "metadata": {
    "collapsed": true
   },
   "outputs": [],
   "source": [
    "net = mx.sym.Variable('data')\n",
    "fc1 = mx.sym.FullyConnected(data=net, name='fc1', num_hidden=128)\n",
    "net = mx.sym.Activation(data=fc1, name='relu1', act_type=\"relu\")\n",
    "out1 = mx.sym.SoftmaxOutput(data=net, name='softmax')\n",
    "out2 = mx.sym.LinearRegressionOutput(data=net, name='regression')\n",
    "group = mx.sym.Group([out1, out2])\n",
    "group.list_outputs()"
   ]
  },
  {
   "cell_type": "markdown",
   "metadata": {},
   "source": [
    "## Relations to NDArray\n",
    "\n",
    "As you can see now, both `Symbol` and `NDArray` provide multi-dimensional array\n",
    "operations, such as `c = a + b` in MXNet. We briefly clarify the differences here.\n",
    "\n",
    "The `NDArray` provides an imperative programming alike interface, in which the\n",
    "computations are evaluated sentence by sentence. While `Symbol` is closer to\n",
    "declarative programming, in which we first declare the computation and then\n",
    "evaluate with data. Examples in this category include regular expressions and\n",
    "SQL.\n",
    "\n",
    "The pros for `NDArray`:\n",
    "\n",
    "- Straightforward.\n",
    "- Easy to work with native language features (for loop, if-else condition, ..)\n",
    "  and libraries (numpy, ..).\n",
    "- Easy step-by-step code debugging.\n",
    "\n",
    "The pros for `Symbol`:\n",
    "\n",
    "- Provides almost all functionalities of NDArray, such as `+`, `*`, `sin`,\n",
    "  `reshape` etc.\n",
    "- Easy to save, load and visualize.\n",
    "- Easy for the backend to optimize the computation and memory usage.\n",
    "\n",
    "## Symbol Manipulation\n",
    "\n",
    "One important difference of `Symbol` compared to `NDArray` is that we first\n",
    "declare the computation and then bind the computation with data to run.\n",
    "\n",
    "In this section, we introduce the functions to manipulate a symbol directly. But\n",
    "note that, most of them are wrapped by the `module` package.\n",
    "\n",
    "### Shape and Type Inference\n",
    "\n",
    "For each symbol, we can query its arguments, auxiliary states and outputs.\n",
    "We can also infer the output shape and type of the symbol given the known input\n",
    "shape or type of some arguments, which facilitates memory allocation."
   ]
  },
  {
   "cell_type": "code",
   "execution_count": null,
   "metadata": {
    "collapsed": true
   },
   "outputs": [],
   "source": [
    "arg_name = c.list_arguments()  # get the names of the inputs\n",
    "out_name = c.list_outputs()    # get the names of the outputs\n",
    "# infers output shape given the shape of input arguments\n",
    "arg_shape, out_shape, _ = c.infer_shape(a=(2,3), b=(2,3))\n",
    "# infers output type given the type of input arguments\n",
    "arg_type, out_type, _ = c.infer_type(a='float32', b='float32')\n",
    "{'input' : dict(zip(arg_name, arg_shape)),\n",
    " 'output' : dict(zip(out_name, out_shape))}\n",
    "{'input' : dict(zip(arg_name, arg_type)),\n",
    " 'output' : dict(zip(out_name, out_type))}"
   ]
  },
  {
   "cell_type": "markdown",
   "metadata": {},
   "source": [
    "### Bind with Data and Evaluate\n",
    "\n",
    "The symbol `c` constructed above declares what computation should be run. To\n",
    "evaluate it, we first need to feed the arguments, namely free variables, with data.\n",
    "\n",
    "We can do it by using the `bind` method, which accepts device context and\n",
    "a `dict` mapping free variable names to `NDArray`s as arguments and returns an\n",
    "executor. The executor provides `forward` method for evaluation and an attribute\n",
    "`outputs` to get all the results."
   ]
  },
  {
   "cell_type": "code",
   "execution_count": null,
   "metadata": {
    "collapsed": true
   },
   "outputs": [],
   "source": [
    "ex = c.bind(ctx=mx.cpu(), args={'a' : mx.nd.ones([2,3]),\n",
    "                                'b' : mx.nd.ones([2,3])})\n",
    "ex.forward()\n",
    "print('number of outputs = %d\\nthe first output = \\n%s' % (\n",
    "           len(ex.outputs), ex.outputs[0].asnumpy()))"
   ]
  },
  {
   "cell_type": "markdown",
   "metadata": {},
   "source": [
    "We can evaluate the same symbol on GPU with different data.\n",
    "\n",
    "**Note** In order to execute the following section on a cpu set gpu_device to mx.cpu()."
   ]
  },
  {
   "cell_type": "code",
   "execution_count": null,
   "metadata": {
    "collapsed": true
   },
   "outputs": [],
   "source": [
    "gpu_device=mx.gpu() # Change this to mx.cpu() in absence of GPUs.\n",
    "\n",
    "ex_gpu = c.bind(ctx=gpu_device, args={'a' : mx.nd.ones([3,4], gpu_device)*2,\n",
    "                                      'b' : mx.nd.ones([3,4], gpu_device)*3})\n",
    "ex_gpu.forward()\n",
    "ex_gpu.outputs[0].asnumpy()"
   ]
  },
  {
   "cell_type": "markdown",
   "metadata": {},
   "source": [
    "We can also use `eval` method to evaluate the symbol. It combines calls to `bind`\n",
    "and `forward` methods."
   ]
  },
  {
   "cell_type": "code",
   "execution_count": null,
   "metadata": {
    "collapsed": true
   },
   "outputs": [],
   "source": [
    "ex = c.eval(ctx = mx.cpu(), a = mx.nd.ones([2,3]), b = mx.nd.ones([2,3]))\n",
    "print('number of outputs = %d\\nthe first output = \\n%s' % (\n",
    "            len(ex), ex[0].asnumpy()))"
   ]
  },
  {
   "cell_type": "markdown",
   "metadata": {},
   "source": [
    "For neural nets, a more commonly used pattern is ```simple_bind```, which\n",
    "creates all of the argument arrays for you. Then you can call ```forward```,\n",
    "and ```backward``` (if the gradient is needed) to get the gradient.\n",
    "\n",
    "### Load and Save\n",
    "\n",
    "Logically symbols correspond to ndarrays. They both represent a tensor. They both\n",
    "are inputs/outputs of operators. We can either serialize a `Symbol` object by\n",
    "using `pickle`, or by using `save` and `load` methods directly as we discussed in\n",
    "[NDArray tutorial](http://mxnet.io/tutorials/basic/ndarray.html#serialize-from-to-distributed-filesystems).\n",
    "\n",
    "When serializing `NDArray`, we serialize the tensor data in it and directly dump to\n",
    "disk in binary format.\n",
    "But symbol uses a concept of graph. Graphs are composed by chaining operators. They are\n",
    "implicitly represented by output symbols. So, when serializing a `Symbol`, we\n",
    "serialize the graph of which the symbol is an output. While serialization, Symbol\n",
    "uses more readable `json` format for serialization. To convert symbol to `json`\n",
    "string, use `tojson` method."
   ]
  },
  {
   "cell_type": "code",
   "execution_count": null,
   "metadata": {
    "collapsed": true
   },
   "outputs": [],
   "source": [
    "print(c.tojson())\n",
    "c.save('symbol-c.json')\n",
    "c2 = mx.sym.load('symbol-c.json')\n",
    "c.tojson() == c2.tojson()"
   ]
  },
  {
   "cell_type": "markdown",
   "metadata": {},
   "source": [
    "## Customized Symbol\n",
    "\n",
    "Most operators such as `mx.sym.Convolution` and `mx.sym.Reshape` are implemented\n",
    "in C++ for better performance. MXNet also allows users to write new operators\n",
    "using any front-end language such as Python. It often makes the developing and\n",
    "debugging much easier. To implement an operator in Python, refer to\n",
    "[How to create new operators](http://mxnet.io/how_to/new_op.html).\n",
    "\n",
    "## Advanced Usages\n",
    "\n",
    "### Type Cast\n",
    "\n",
    "By default, MXNet uses 32-bit floats.\n",
    "But for better accuracy-performance,\n",
    "we can also use a lower precision data type.\n",
    "For example, The Nvidia Tesla Pascal GPUs\n",
    "(e.g. P100) have improved 16-bit float performance,\n",
    "while GTX Pascal GPUs (e.g. GTX 1080) are fast on 8-bit integers.\n",
    "\n",
    "To convert the data type as per the requirements,\n",
    "we can use `mx.sym.cast` operator as follows:"
   ]
  },
  {
   "cell_type": "code",
   "execution_count": null,
   "metadata": {
    "collapsed": true
   },
   "outputs": [],
   "source": [
    "a = mx.sym.Variable('data')\n",
    "b = mx.sym.cast(data=a, dtype='float16')\n",
    "arg, out, _ = b.infer_type(data='float32')\n",
    "print({'input':arg, 'output':out})\n",
    "\n",
    "c = mx.sym.cast(data=a, dtype='uint8')\n",
    "arg, out, _ = c.infer_type(data='int32')\n",
    "print({'input':arg, 'output':out})"
   ]
  },
  {
   "cell_type": "markdown",
   "metadata": {},
   "source": [
    "### Variable Sharing\n",
    "\n",
    "To share the contents between several symbols,\n",
    "we can bind these symbols with the same array as follows:"
   ]
  },
  {
   "cell_type": "code",
   "execution_count": null,
   "metadata": {
    "collapsed": true
   },
   "outputs": [],
   "source": [
    "a = mx.sym.Variable('a')\n",
    "b = mx.sym.Variable('b')\n",
    "b = a + a * a\n",
    "\n",
    "data = mx.nd.ones((2,3))*2\n",
    "ex = b.bind(ctx=mx.cpu(), args={'a':data, 'b':data})\n",
    "ex.forward()\n",
    "ex.outputs[0].asnumpy()"
   ]
  },
  {
   "cell_type": "markdown",
   "metadata": {},
   "source": [
    "\n",
    "<!-- INSERT SOURCE DOWNLOAD BUTTONS -->\n",
    "\n"
   ]
  }
 ],
 "metadata": {
  "display_name": "",
  "kernelspec": {
   "display_name": "Python 2",
   "language": "python",
   "name": "python2"
  },
  "language_info": {
   "codemirror_mode": {
    "name": "ipython",
    "version": 2
   },
   "file_extension": ".py",
   "mimetype": "text/x-python",
   "name": "python",
   "nbconvert_exporter": "python",
   "pygments_lexer": "ipython2",
   "version": "2.7.13"
  },
  "name": ""
 },
 "nbformat": 4,
 "nbformat_minor": 2
}
